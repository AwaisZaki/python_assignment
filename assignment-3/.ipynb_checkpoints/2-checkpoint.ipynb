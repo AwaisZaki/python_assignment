{
 "cells": [
  {
   "cell_type": "code",
   "execution_count": null,
   "metadata": {},
   "outputs": [],
   "source": [
    "#a program to check if there is any numeric value in list\n",
    "randomlist = [11,6,30,'Awais',\"python\",0.1,False, 5]\n",
    "for inlist in arr:\n",
    "    if type(inlist) == int:\n",
    "        print(inlist,\"numeric Value\")\n",
    "    elif type(inlist) == float:\n",
    "        print(inlist,\"numeric Value\")"
   ]
  }
 ],
 "metadata": {
  "kernelspec": {
   "display_name": "Python 3",
   "language": "python",
   "name": "python3"
  },
  "language_info": {
   "codemirror_mode": {
    "name": "ipython",
    "version": 3
   },
   "file_extension": ".py",
   "mimetype": "text/x-python",
   "name": "python",
   "nbconvert_exporter": "python",
   "pygments_lexer": "ipython3",
   "version": "3.7.4"
  }
 },
 "nbformat": 4,
 "nbformat_minor": 2
}
