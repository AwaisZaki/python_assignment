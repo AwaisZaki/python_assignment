{
 "cells": [
  {
   "cell_type": "code",
   "execution_count": 31,
   "metadata": {},
   "outputs": [
    {
     "name": "stdout",
     "output_type": "stream",
     "text": [
      "Sum of all numeric items a dictionary is 43\n"
     ]
    }
   ],
   "source": [
    "dictionary = {\n",
    "    'num1' : 11,\n",
    "    'num2' : 1,\n",
    "    'string':'abc',\n",
    "    'char':'a',\n",
    "    'num3' : 11,\n",
    "    'num4':20,\n",
    "}\n",
    "\n",
    "sum = 0\n",
    "\n",
    "for i in dictionary.values():\n",
    "    if type(i) == int:\n",
    "        sum +=i\n",
    "\n",
    "print(\"Sum of all numeric items a dictionary is\" , sum)"
   ]
  },
  {
   "cell_type": "code",
   "execution_count": null,
   "metadata": {},
   "outputs": [],
   "source": []
  }
 ],
 "metadata": {
  "kernelspec": {
   "display_name": "Python 3",
   "language": "python",
   "name": "python3"
  },
  "language_info": {
   "codemirror_mode": {
    "name": "ipython",
    "version": 3
   },
   "file_extension": ".py",
   "mimetype": "text/x-python",
   "name": "python",
   "nbconvert_exporter": "python",
   "pygments_lexer": "ipython3",
   "version": "3.7.4"
  }
 },
 "nbformat": 4,
 "nbformat_minor": 2
}
