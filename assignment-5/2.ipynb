{
 "cells": [
  {
   "cell_type": "code",
   "execution_count": 1,
   "metadata": {},
   "outputs": [
    {
     "name": "stdout",
     "output_type": "stream",
     "text": [
      "Enter any word with uper and lower case compUter\n",
      "\n",
      "The Total Lenght of Input is 8\n",
      "-----------------------------------------\n",
      "\n",
      "Uper Case Alphabet 1 Lowe Case Alphabet 7\n"
     ]
    }
   ],
   "source": [
    "str_value = input(\"Enter any word with uper and lower case \")\n",
    "\n",
    "\n",
    "def count_lower_uper(str_value):\n",
    "            total_lenght = len(str_value)\n",
    "            print(\"\\nThe Total Lenght of Input is {}\".format(\n",
    "                total_lenght)+\"\\n-----------------------------------------\\n\")\n",
    "            upper = 0\n",
    "            lower = 0\n",
    "            for value in str_value:\n",
    "                if value.isupper():\n",
    "                    upper += 1\n",
    "                if value.islower():\n",
    "                    lower += 1\n",
    "            print(\"Uper Case Alphabet {} Lowe Case Alphabet {}\".format(\n",
    "                str(upper), str(lower)))\n",
    "\n",
    "\n",
    "#Function Invoke here! --------------------------------------\n",
    "count_lower_uper(str_value)"
   ]
  },
  {
   "cell_type": "code",
   "execution_count": null,
   "metadata": {},
   "outputs": [],
   "source": []
  }
 ],
 "metadata": {
  "kernelspec": {
   "display_name": "Python 3",
   "language": "python",
   "name": "python3"
  },
  "language_info": {
   "codemirror_mode": {
    "name": "ipython",
    "version": 3
   },
   "file_extension": ".py",
   "mimetype": "text/x-python",
   "name": "python",
   "nbconvert_exporter": "python",
   "pygments_lexer": "ipython3",
   "version": "3.7.4"
  }
 },
 "nbformat": 4,
 "nbformat_minor": 2
}
