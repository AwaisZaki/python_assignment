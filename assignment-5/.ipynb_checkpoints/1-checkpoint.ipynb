{
 "cells": [
  {
   "cell_type": "code",
   "execution_count": 1,
   "metadata": {},
   "outputs": [
    {
     "name": "stdout",
     "output_type": "stream",
     "text": [
      "Enter number for generate factorail 4\n",
      "The factorial of 4 is 24\n"
     ]
    }
   ],
   "source": [
    "number = int(input(\"Enter number for generate factorail \"))\n",
    "\n",
    "\n",
    "def get_fac(number):\n",
    "    factorial = 1\n",
    "    if number < 0:\n",
    "        print(\"Sorry, factorial does not exist for negative numbers \")\n",
    "    elif number == 0:\n",
    "        print(\"The Factorail number 0 is 1\")\n",
    "    else:\n",
    "        for num in range(1, number+1):\n",
    "            factorial = factorial*num\n",
    "    print(\"The factorial of\", number, \"is\", factorial)\n",
    "\n",
    "\n",
    "get_fac(number)"
   ]
  },
  {
   "cell_type": "code",
   "execution_count": null,
   "metadata": {},
   "outputs": [],
   "source": []
  }
 ],
 "metadata": {
  "kernelspec": {
   "display_name": "Python 3",
   "language": "python",
   "name": "python3"
  },
  "language_info": {
   "codemirror_mode": {
    "name": "ipython",
    "version": 3
   },
   "file_extension": ".py",
   "mimetype": "text/x-python",
   "name": "python",
   "nbconvert_exporter": "python",
   "pygments_lexer": "ipython3",
   "version": "3.7.4"
  }
 },
 "nbformat": 4,
 "nbformat_minor": 2
}
