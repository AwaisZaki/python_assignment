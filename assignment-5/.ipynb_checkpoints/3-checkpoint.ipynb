{
 "cells": [
  {
   "cell_type": "code",
   "execution_count": 2,
   "metadata": {},
   "outputs": [
    {
     "name": "stdout",
     "output_type": "stream",
     "text": [
      "How many number you want to add in list eg: 1,2,3 1\n",
      "Please enter number 2\n",
      "This is existing list [2]\n",
      "even number is2\n"
     ]
    }
   ],
   "source": [
    "listas = []\n",
    "number = int(input(\"How many number you want to add in list eg: 1,2,3 \"))\n",
    "\n",
    "for i in range(0, number):\n",
    "    ele = int(input(\"Please enter number \"))\n",
    "    listas.append(ele)  # adding the element\n",
    "\n",
    "\n",
    "def even(lista):\n",
    "\n",
    "    for inp in lista:\n",
    "        check = inp % 2\n",
    "        if check == 0:\n",
    "\n",
    "            print(\"even number is\" + str(inp))\n",
    "\n",
    "\n",
    "print(\"This is existing list \"+str(listas))\n",
    "even(listas)"
   ]
  },
  {
   "cell_type": "code",
   "execution_count": null,
   "metadata": {},
   "outputs": [],
   "source": []
  }
 ],
 "metadata": {
  "kernelspec": {
   "display_name": "Python 3",
   "language": "python",
   "name": "python3"
  },
  "language_info": {
   "codemirror_mode": {
    "name": "ipython",
    "version": 3
   },
   "file_extension": ".py",
   "mimetype": "text/x-python",
   "name": "python",
   "nbconvert_exporter": "python",
   "pygments_lexer": "ipython3",
   "version": "3.7.4"
  }
 },
 "nbformat": 4,
 "nbformat_minor": 2
}
