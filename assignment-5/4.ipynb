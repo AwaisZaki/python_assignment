{
 "cells": [
  {
   "cell_type": "code",
   "execution_count": 2,
   "metadata": {},
   "outputs": [
    {
     "name": "stdout",
     "output_type": "stream",
     "text": [
      "Enter any plindrome word to check mama\n",
      "this is not a plindrome\n"
     ]
    }
   ],
   "source": [
    "word = input(\"Enter any plindrome word to check \").lower()\n",
    "word_rev = reversed(word)\n",
    "\n",
    "\n",
    "def is_palindrome(word):\n",
    "    if list(word) == list(word_rev):\n",
    "        print('It is a palindrome')\n",
    "    else:\n",
    "        print('this is not a plindrome')\n",
    "\n",
    "\n",
    "is_palindrome(word)"
   ]
  },
  {
   "cell_type": "code",
   "execution_count": null,
   "metadata": {},
   "outputs": [],
   "source": []
  },
  {
   "cell_type": "code",
   "execution_count": null,
   "metadata": {},
   "outputs": [],
   "source": []
  }
 ],
 "metadata": {
  "kernelspec": {
   "display_name": "Python 3",
   "language": "python",
   "name": "python3"
  },
  "language_info": {
   "codemirror_mode": {
    "name": "ipython",
    "version": 3
   },
   "file_extension": ".py",
   "mimetype": "text/x-python",
   "name": "python",
   "nbconvert_exporter": "python",
   "pygments_lexer": "ipython3",
   "version": "3.7.4"
  }
 },
 "nbformat": 4,
 "nbformat_minor": 2
}
