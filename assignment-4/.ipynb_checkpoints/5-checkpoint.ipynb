{
 "cells": [
  {
   "cell_type": "code",
   "execution_count": 1,
   "metadata": {},
   "outputs": [
    {
     "name": "stdout",
     "output_type": "stream",
     "text": [
      "Guess the number3\n",
      "Your guess number is greater\n",
      "\n",
      "Guess the number4\n",
      "Your guess number is greater\n",
      "\n",
      "Guess the number5\n",
      "Your guess number is greater\n",
      "\n"
     ]
    }
   ],
   "source": [
    "import random\n",
    "count = 0\n",
    "while count < 3:\n",
    "    rndnum = int(random.randrange(1, 30))\n",
    "    user = int(input(\"Guess the number\"))\n",
    "    count = count+1\n",
    "\n",
    "    if(rndnum > user):\n",
    "        print(\"Your guess number is greater\\n\")\n",
    "  \n",
    "    elif rndnum < user:\n",
    "        print(\"Your guess number is smaller\\n\")\n",
    "  \n",
    "    else:\n",
    "        print(\"Your guess number is equal\\n\")"
   ]
  },
  {
   "cell_type": "code",
   "execution_count": null,
   "metadata": {},
   "outputs": [],
   "source": []
  }
 ],
 "metadata": {
  "kernelspec": {
   "display_name": "Python 3",
   "language": "python",
   "name": "python3"
  },
  "language_info": {
   "codemirror_mode": {
    "name": "ipython",
    "version": 3
   },
   "file_extension": ".py",
   "mimetype": "text/x-python",
   "name": "python",
   "nbconvert_exporter": "python",
   "pygments_lexer": "ipython3",
   "version": "3.7.4"
  }
 },
 "nbformat": 4,
 "nbformat_minor": 2
}
