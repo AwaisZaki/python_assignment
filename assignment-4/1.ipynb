{
 "cells": [
  {
   "cell_type": "code",
   "execution_count": 1,
   "metadata": {},
   "outputs": [
    {
     "name": "stdout",
     "output_type": "stream",
     "text": [
      "{'first_name': 'Hamza', 'last_name': 'Ali Khan', 'age': 22, 'city': 'Karachi'}\n",
      "Hamza\n",
      "Ali Khan\n",
      "22\n",
      "Karachi\n"
     ]
    }
   ],
   "source": [
    "person = {\n",
    "    \"first_name\": \"Hamza\",\n",
    "    \"last_name\": \"Ali Khan\",\n",
    "    \"age\": 22,\n",
    "    \"city\": \"Karachi\",    \n",
    "}\n",
    "print(person)\n",
    "print(person[\"first_name\"] + \"\\n\" + person[\"last_name\"] + \"\\n\" + str(person[\"age\"]) + \"\\n\" + person[\"city\"])"
   ]
  },
  {
   "cell_type": "code",
   "execution_count": 2,
   "metadata": {},
   "outputs": [
    {
     "name": "stdout",
     "output_type": "stream",
     "text": [
      "{'first_name': 'Hamza', 'last_name': 'Ali Khan', 'age': 22, 'city': 'Karachi', 'qualification': 'High academic level'}\n",
      "Hamza\n",
      "Ali Khan\n",
      "22\n",
      "Karachi\n",
      "High academic level\n"
     ]
    }
   ],
   "source": [
    "person[\"qualification\"] = \"High academic level\"\n",
    "print(person)\n",
    "print(person[\"first_name\"] + \"\\n\" + person[\"last_name\"] + \"\\n\" + str(person[\"age\"]) + \"\\n\" + person[\"city\"] + \"\\n\" + person[\"qualification\"])"
   ]
  },
  {
   "cell_type": "code",
   "execution_count": 3,
   "metadata": {},
   "outputs": [
    {
     "name": "stdout",
     "output_type": "stream",
     "text": [
      "{'first_name': 'Hamza', 'last_name': 'Ali Khan', 'age': 22, 'city': 'Karachi'}\n",
      "Hamza\n",
      "Ali Khan\n",
      "22\n",
      "Karachi\n"
     ]
    }
   ],
   "source": [
    "del person[\"qualification\"]\n",
    "print(person)\n",
    "print(person[\"first_name\"] + \"\\n\" + person[\"last_name\"] + \"\\n\" + str(person[\"age\"]) + \"\\n\" + person[\"city\"])"
   ]
  },
  {
   "cell_type": "code",
   "execution_count": null,
   "metadata": {},
   "outputs": [],
   "source": []
  }
 ],
 "metadata": {
  "kernelspec": {
   "display_name": "Python 3",
   "language": "python",
   "name": "python3"
  },
  "language_info": {
   "codemirror_mode": {
    "name": "ipython",
    "version": 3
   },
   "file_extension": ".py",
   "mimetype": "text/x-python",
   "name": "python",
   "nbconvert_exporter": "python",
   "pygments_lexer": "ipython3",
   "version": "3.7.4"
  }
 },
 "nbformat": 4,
 "nbformat_minor": 2
}
