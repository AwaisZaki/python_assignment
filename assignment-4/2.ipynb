{
 "cells": [
  {
   "cell_type": "code",
   "execution_count": 1,
   "metadata": {},
   "outputs": [
    {
     "name": "stdout",
     "output_type": "stream",
     "text": [
      "\n",
      "Karachi\n",
      "\n",
      "country : Pakistan\n",
      "population : 15741000\n",
      "fact : It is the most populous city in Pakistan, and fifth-most-populous city proper in the world. Ranked as a beta-global city, the city is Pakistan's premier industrial and financial centre.\n",
      "\n",
      "Lahore\n",
      "\n",
      "country : Pakistan\n",
      "population : 12188000\n",
      "fact : Lahore is the country's second-most populous city after Karachi. Lahore is one of Pakistan's wealthiest cities, with an estimated GDP of $58.14 billion as of 2015.\n",
      "\n",
      "Hyderabad\n",
      "\n",
      "country : Pakistan\n",
      "population : 1815000\n",
      "fact : Hyderabad is a city located in the Sindh province of Pakistan. It is the second-largest city in Sindh and fourth-largest in Pakistan\n"
     ]
    }
   ],
   "source": [
    "cities = {\n",
    "    \"Karachi\": {\n",
    "        \"country\": \"Pakistan\",\n",
    "        \"population\": 15741000,\n",
    "        \"fact\": \"It is the most populous city in Pakistan, and fifth-most-populous city proper in the world. Ranked as a beta-global city, the city is Pakistan's premier industrial and financial centre.\"\n",
    "        \n",
    "    } ,\n",
    "    \"Lahore\":{\n",
    "        \"country\": \"Pakistan\",\n",
    "        \"population\": 12188000,\n",
    "        \"fact\": \"Lahore is the country's second-most populous city after Karachi. Lahore is one of Pakistan's wealthiest cities, with an estimated GDP of $58.14 billion as of 2015.\"\n",
    "        \n",
    "        \n",
    "    } ,\n",
    "    \"Hyderabad\":{\n",
    "        \"country\": \"Pakistan\",\n",
    "        \"population\": 1815000,\n",
    "        \"fact\": \"Hyderabad is a city located in the Sindh province of Pakistan. It is the second-largest city in Sindh and fourth-largest in Pakistan\"\n",
    "\n",
    "    } ,\n",
    "}\n",
    "\n",
    "for keys, cityinfo in cities.items():\n",
    "    print(\"\\n\"+keys+\"\\n\")\n",
    "    for city in cityinfo:\n",
    "        print(city+\" : \"+str(cityinfo[city]))"
   ]
  },
  {
   "cell_type": "code",
   "execution_count": null,
   "metadata": {},
   "outputs": [],
   "source": []
  }
 ],
 "metadata": {
  "kernelspec": {
   "display_name": "Python 3",
   "language": "python",
   "name": "python3"
  },
  "language_info": {
   "codemirror_mode": {
    "name": "ipython",
    "version": 3
   },
   "file_extension": ".py",
   "mimetype": "text/x-python",
   "name": "python",
   "nbconvert_exporter": "python",
   "pygments_lexer": "ipython3",
   "version": "3.7.4"
  }
 },
 "nbformat": 4,
 "nbformat_minor": 2
}
